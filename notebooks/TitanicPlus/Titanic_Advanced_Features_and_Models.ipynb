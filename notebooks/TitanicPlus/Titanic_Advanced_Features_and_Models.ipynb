{
 "cells": [
  {
   "cell_type": "code",
   "execution_count": 124,
   "id": "6e21bb45-2908-424f-91f8-a364df700ae2",
   "metadata": {},
   "outputs": [
    {
     "name": "stdout",
     "output_type": "stream",
     "text": [
      "   PassengerId  Survived  Pclass  \\\n",
      "0            1         0       3   \n",
      "1            2         1       1   \n",
      "2            3         1       3   \n",
      "3            4         1       1   \n",
      "4            5         0       3   \n",
      "\n",
      "                                                Name     Sex   Age  SibSp  \\\n",
      "0                            Braund, Mr. Owen Harris    male  22.0      1   \n",
      "1  Cumings, Mrs. John Bradley (Florence Briggs Th...  female  38.0      1   \n",
      "2                             Heikkinen, Miss. Laina  female  26.0      0   \n",
      "3       Futrelle, Mrs. Jacques Heath (Lily May Peel)  female  35.0      1   \n",
      "4                           Allen, Mr. William Henry    male  35.0      0   \n",
      "\n",
      "   Parch            Ticket     Fare Cabin Embarked  \n",
      "0      0         A/5 21171   7.2500   NaN        S  \n",
      "1      0          PC 17599  71.2833   C85        C  \n",
      "2      0  STON/O2. 3101282   7.9250   NaN        S  \n",
      "3      0            113803  53.1000  C123        S  \n",
      "4      0            373450   8.0500   NaN        S  \n"
     ]
    }
   ],
   "source": [
    "import pandas as pd\n",
    "import numpy as np\n",
    "\n",
    "from sklearn.model_selection import train_test_split, cross_val_score, RandomizedSearchCV\n",
    "from sklearn.pipeline import Pipeline\n",
    "from sklearn.compose import ColumnTransformer\n",
    "from sklearn.preprocessing import OneHotEncoder, StandardScaler\n",
    "from sklearn.impute import SimpleImputer\n",
    "from sklearn.ensemble import RandomForestClassifier\n",
    "from sklearn.linear_model import LogisticRegression\n",
    "from sklearn.svm import SVC\n",
    "from sklearn.ensemble import StackingClassifier\n",
    "from sklearn.preprocessing import OrdinalEncoder\n",
    "from sklearn.model_selection import StratifiedKFold\n",
    "from scipy.stats import randint as sp_randint\n",
    "from scipy.stats import uniform\n",
    "\n",
    "from xgboost import XGBClassifier\n",
    "\n",
    "\n",
    "train = pd.read_csv(\"train.csv\")\n",
    "test = pd.read_csv(\"test.csv\")\n",
    "\n",
    "df_train = train.copy()\n",
    "df_test = test.copy()\n",
    "\n",
    "print(df_train.head())"
   ]
  },
  {
   "cell_type": "code",
   "execution_count": 125,
   "id": "71656550-3335-44c6-984a-9a9f67e74309",
   "metadata": {},
   "outputs": [
    {
     "name": "stdout",
     "output_type": "stream",
     "text": [
      "  Title  FamilySize  IsAlone  FarePerPerson     Deck      AgeBin   FareBin  \\\n",
      "0    Mr           2        0        3.62500  Unknown  YoungAdult       Low   \n",
      "1   Mrs           2        0       35.64165        C       Adult  VeryHigh   \n",
      "2  Miss           1        1        7.92500  Unknown  YoungAdult    Medium   \n",
      "3   Mrs           2        0       26.55000        C  YoungAdult  VeryHigh   \n",
      "4    Mr           1        1        8.05000  Unknown  YoungAdult    Medium   \n",
      "\n",
      "  Pclass_Sex  \n",
      "0     3_male  \n",
      "1   1_female  \n",
      "2   3_female  \n",
      "3   1_female  \n",
      "4     3_male  \n"
     ]
    }
   ],
   "source": [
    "# DATA Düzenleme\n",
    "def extract_title(name):\n",
    "    if pd.isnull(name):\n",
    "        return \"Unknown\"\n",
    "    return name.split(',')[1].split('.')[0].strip()\n",
    "\n",
    "df_train['Title'] = df_train['Name'].apply(extract_title)\n",
    "df_test['Title'] = df_test['Name'].apply(extract_title)\n",
    "\n",
    "df_train['FamilySize'] = df_train['SibSp'] + df_train['Parch'] + 1\n",
    "df_test['FamilySize'] = df_test['SibSp'] + df_test['Parch'] + 1\n",
    "\n",
    "df_train['IsAlone'] = (df_train['FamilySize'] == 1).astype(int)\n",
    "df_test['IsAlone'] = (df_test['FamilySize'] == 1).astype(int)\n",
    "\n",
    "df_train['FarePerPerson'] = df_train['Fare'] / df_train['FamilySize']\n",
    "df_test['FarePerPerson'] = df_test['Fare'] / df_test['FamilySize']\n",
    "\n",
    "df_train['Deck'] = df_train['Cabin'].apply(lambda x: str(x)[0] if pd.notnull(x) else 'Unknown')\n",
    "df_test['Deck'] = df_test['Cabin'].apply(lambda x: str(x)[0] if pd.notnull(x) else 'Unknown')\n",
    "\n",
    "df_train['AgeBin'] = pd.cut(df_train['Age'], bins=[0, 12, 18, 35, 60, 120], labels=['Child', 'Teen', 'YoungAdult', 'Adult', 'Senior'])\n",
    "df_test['AgeBin'] = pd.cut(df_test['Age'], bins=[0, 12, 18, 35, 60, 120], labels=['Child', 'Teen', 'YoungAdult', 'Adult', 'Senior'])\n",
    "\n",
    "df_train['FareBin'] = pd.qcut(df_train['Fare'], 4, labels=['Low', 'Medium', 'High', 'VeryHigh'])\n",
    "df_test['FareBin'] = pd.qcut(df_test['Fare'], 4, labels=['Low', 'Medium', 'High', 'VeryHigh'])\n",
    "\n",
    "df_train['Pclass_Sex'] = df_train['Pclass'].astype(str) + \"_\" + df_train['Sex']\n",
    "df_test['Pclass_Sex'] = df_test['Pclass'].astype(str) + \"_\" + df_test['Sex']\n",
    "\n",
    "print(df_train[['Title', 'FamilySize', 'IsAlone', 'FarePerPerson', 'Deck', 'AgeBin', 'FareBin', 'Pclass_Sex']].head())"
   ]
  },
  {
   "cell_type": "code",
   "execution_count": 126,
   "id": "c1ab91e5-ce14-441b-b9df-50ed4cf8db48",
   "metadata": {},
   "outputs": [
    {
     "name": "stdout",
     "output_type": "stream",
     "text": [
      "Train Set Eksik Değerler:\n",
      "Age         177\n",
      "Cabin       687\n",
      "Embarked      2\n",
      "AgeBin      177\n",
      "dtype: int64\n",
      "\n",
      "Test Set Eksik Değerler:\n",
      "Age               86\n",
      "Fare               1\n",
      "Cabin            327\n",
      "FarePerPerson      1\n",
      "AgeBin            86\n",
      "FareBin            1\n",
      "dtype: int64\n"
     ]
    }
   ],
   "source": [
    "print(\"Train Set Eksik Değerler:\")\n",
    "print(df_train.isnull().sum()[df_train.isnull().sum() > 0])\n",
    "\n",
    "print(\"\\nTest Set Eksik Değerler:\")\n",
    "print(df_test.isnull().sum()[df_test.isnull().sum() > 0])"
   ]
  },
  {
   "cell_type": "code",
   "execution_count": 127,
   "id": "1d6caa6c-2c6e-436e-98b8-23bab5cf774b",
   "metadata": {},
   "outputs": [],
   "source": [
    "df_train['Embarked'] = df_train['Embarked'].fillna(\"Missing\")\n",
    "df_test['Embarked'] = df_test['Embarked'].fillna(\"Missing\")"
   ]
  },
  {
   "cell_type": "code",
   "execution_count": 128,
   "id": "2aed6424-0a07-4fd3-9b6a-179c13124134",
   "metadata": {},
   "outputs": [],
   "source": [
    "df_test['Fare'] = df_test['Fare'].fillna(df_test['Fare'].median())"
   ]
  },
  {
   "cell_type": "code",
   "execution_count": 129,
   "id": "42b56382-9dcc-4952-87fc-8b6717915d04",
   "metadata": {},
   "outputs": [],
   "source": [
    "age_fill_map = df_train.groupby('Title')['Age'].median().to_dict()\n",
    "\n",
    "df_train['Age'] = df_train.apply(lambda row: age_fill_map.get(row['Title'], df_train['Age'].median()) if pd.isnull(row['Age']) else row['Age'], axis=1)\n",
    "df_test['Age'] = df_test.apply(lambda row: age_fill_map.get(row['Title'], df_test['Age'].median()) if pd.isnull(row['Age']) else row['Age'], axis=1)"
   ]
  },
  {
   "cell_type": "code",
   "execution_count": 130,
   "id": "576aebc5-a743-42bb-ba63-54241a40e4f8",
   "metadata": {},
   "outputs": [],
   "source": [
    "df_train['AgeBin'] = pd.cut(df_train['Age'], bins=[0, 12, 18, 35, 60, 120], labels=['Child', 'Teen', 'YoungAdult', 'Adult', 'Senior'])\n",
    "df_test['AgeBin'] = pd.cut(df_test['Age'], bins=[0, 12, 18, 35, 60, 120], labels=['Child', 'Teen', 'YoungAdult', 'Adult', 'Senior'])\n",
    "\n",
    "df_train['FareBin'] = pd.qcut(df_train['Fare'], 4, labels=['Low', 'Medium', 'High', 'VeryHigh'])\n",
    "df_test['FareBin'] = pd.qcut(df_test['Fare'], 4, labels=['Low', 'Medium', 'High', 'VeryHigh'])"
   ]
  },
  {
   "cell_type": "code",
   "execution_count": 131,
   "id": "2b8cf8d7-4b37-4469-9711-0a3c46d6edb7",
   "metadata": {},
   "outputs": [
    {
     "name": "stdout",
     "output_type": "stream",
     "text": [
      "Cross-Validation Accuracy Scores: [0.7877095  0.79775281 0.76966292 0.79775281 0.8258427 ]\n",
      "Average CV Accuracy: 0.7957\n"
     ]
    }
   ],
   "source": [
    "from sklearn.base import BaseEstimator, TransformerMixin\n",
    "import pandas as pd\n",
    "\n",
    "class ColumnTransformerToDF(BaseEstimator, TransformerMixin):\n",
    "    def __init__(self, transformer, columns):\n",
    "        self.transformer = transformer\n",
    "        self.columns = columns\n",
    "        \n",
    "    def fit(self, X, y=None):\n",
    "        self.transformer.fit(X, y)\n",
    "        return self\n",
    "    \n",
    "    def transform(self, X):\n",
    "        X_transformed = self.transformer.transform(X)\n",
    "        return pd.DataFrame(X_transformed, columns=self.columns, index=X.index)\n",
    "\n",
    "categorical_cols = ['Sex', 'Embarked', 'Title', 'Deck', 'AgeBin', 'FareBin', 'Pclass_Sex']\n",
    "numerical_cols = ['Age', 'Fare', 'FamilySize']  \n",
    "# --- Pipeline Adımları ---\n",
    "# Sayısal veriler için imputer (ortalama ile doldurma)\n",
    "num_transformer = SimpleImputer(strategy='mean')\n",
    "\n",
    "# Kategorik veriler için imputer + encoder\n",
    "cat_transformer = Pipeline(steps=[\n",
    "    ('imputer', SimpleImputer(strategy='constant', fill_value='missing')),  \n",
    "    ('encoder', OrdinalEncoder(handle_unknown='use_encoded_value', unknown_value=-1))\n",
    "])\n",
    "\n",
    "preprocessor_raw = ColumnTransformer(transformers=[\n",
    "    ('num', num_transformer, numerical_cols),\n",
    "    ('cat', cat_transformer, categorical_cols)\n",
    "])\n",
    "\n",
    "all_features = numerical_cols + categorical_cols\n",
    "\n",
    "preprocessor = ColumnTransformerToDF(preprocessor_raw, all_features)\n",
    "\n",
    "\n",
    "# Model pipeline \n",
    "model = Pipeline(steps=[\n",
    "    ('preprocessor', preprocessor),\n",
    "    ('classifier', LogisticRegression(max_iter=1000))\n",
    "])\n",
    "\n",
    "# Target ve feature ayrımı\n",
    "X_train = df_train[categorical_cols + numerical_cols]\n",
    "y_train = df_train['Survived']\n",
    "\n",
    "# Stratified K-Fold cross-validation ile doğruluk ölçümü\n",
    "cv = StratifiedKFold(n_splits=5, shuffle=True, random_state=42)\n",
    "scores = cross_val_score(model, X_train, y_train, cv=cv, scoring='accuracy')\n",
    "\n",
    "print(f'Cross-Validation Accuracy Scores: {scores}')\n",
    "print(f'Average CV Accuracy: {scores.mean():.4f}')"
   ]
  },
  {
   "cell_type": "code",
   "execution_count": 132,
   "id": "76150929-eb85-44b3-8be4-a43a5f2f0261",
   "metadata": {},
   "outputs": [
    {
     "name": "stdout",
     "output_type": "stream",
     "text": [
      "VotingClassifier CV Accuracy Scores: [0.84916201 0.85393258 0.79775281 0.83707865 0.84269663]\n",
      "VotingClassifier Average Accuracy: 0.8361\n"
     ]
    }
   ],
   "source": [
    "from sklearn.ensemble import VotingClassifier\n",
    "from sklearn.linear_model import LogisticRegression\n",
    "from sklearn.ensemble import RandomForestClassifier\n",
    "import lightgbm as lgb\n",
    "from sklearn.model_selection import cross_val_score\n",
    "from lightgbm import LGBMClassifier\n",
    "\n",
    "# --- Ana modeller ---\n",
    "logreg = Pipeline(steps=[\n",
    "    ('preprocessor', preprocessor),\n",
    "    ('classifier', LogisticRegression(max_iter=1000, random_state=42))\n",
    "])\n",
    "\n",
    "rf = Pipeline(steps=[\n",
    "    ('preprocessor', preprocessor),\n",
    "    ('classifier', RandomForestClassifier(n_estimators=100, random_state=42))\n",
    "])\n",
    "\n",
    "lgbm = Pipeline(steps=[\n",
    "    ('preprocessor', preprocessor),\n",
    "    ('classifier', lgb.LGBMClassifier(n_estimators=100, learning_rate=0.05, random_state=42, verbose=-1))\n",
    "])\n",
    "\n",
    "# --- Ensemble: VotingClassifier (soft voting) ---\n",
    "voting_clf = VotingClassifier(estimators=[\n",
    "    ('lr', logreg),\n",
    "    ('rf', rf),\n",
    "    ('lgb', lgbm)\n",
    "], voting='soft')  # voting='hard' da yapılabilir\n",
    "\n",
    "# --- Cross-validation ---\n",
    "X_train = df_train[categorical_cols + numerical_cols]\n",
    "y_train = df_train['Survived']\n",
    "\n",
    "cv = StratifiedKFold(n_splits=5, shuffle=True, random_state=42)\n",
    "scores = cross_val_score(voting_clf, X_train, y_train, cv=cv, scoring='accuracy')\n",
    "\n",
    "print(f'VotingClassifier CV Accuracy Scores: {scores}')\n",
    "print(f'VotingClassifier Average Accuracy: {scores.mean():.4f}')"
   ]
  },
  {
   "cell_type": "code",
   "execution_count": 133,
   "id": "5bbacbc6-9ef1-407e-af14-190a2e1fdb9a",
   "metadata": {},
   "outputs": [
    {
     "name": "stdout",
     "output_type": "stream",
     "text": [
      "VotingClassifier CV Accuracy Scores: [0.84916201 0.85393258 0.79775281 0.83707865 0.84269663]\n",
      "VotingClassifier Average Accuracy: 0.8361\n"
     ]
    }
   ],
   "source": [
    "from sklearn.ensemble import VotingClassifier\n",
    "from sklearn.linear_model import LogisticRegression\n",
    "from sklearn.ensemble import RandomForestClassifier\n",
    "import lightgbm as lgb\n",
    "from sklearn.model_selection import cross_val_score\n",
    "from lightgbm import LGBMClassifier\n",
    "\n",
    "# --- Ana modeller ---\n",
    "logreg = Pipeline(steps=[\n",
    "    ('preprocessor', preprocessor),\n",
    "    ('classifier', LogisticRegression(max_iter=1000, random_state=42))\n",
    "])\n",
    "\n",
    "rf = Pipeline(steps=[\n",
    "    ('preprocessor', preprocessor),\n",
    "    ('classifier', RandomForestClassifier(n_estimators=100, random_state=42))\n",
    "])\n",
    "\n",
    "lgbm = Pipeline(steps=[\n",
    "    ('preprocessor', preprocessor),\n",
    "    ('classifier', lgb.LGBMClassifier(n_estimators=100, learning_rate=0.05, random_state=42, verbose=-1))\n",
    "])\n",
    "\n",
    "# --- Ensemble: VotingClassifier (soft voting) ---\n",
    "voting_clf = VotingClassifier(estimators=[\n",
    "    ('lr', logreg),\n",
    "    ('rf', rf),\n",
    "    ('lgb', lgbm)\n",
    "], voting='soft')  # voting='hard' da yapılabilir\n",
    "\n",
    "# --- Cross-validation ---\n",
    "X_train = df_train[categorical_cols + numerical_cols]\n",
    "y_train = df_train['Survived']\n",
    "\n",
    "cv = StratifiedKFold(n_splits=5, shuffle=True, random_state=42)\n",
    "scores = cross_val_score(voting_clf, X_train, y_train, cv=cv, scoring='accuracy')\n",
    "\n",
    "print(f'VotingClassifier CV Accuracy Scores: {scores}')\n",
    "print(f'VotingClassifier Average Accuracy: {scores.mean():.4f}')"
   ]
  },
  {
   "cell_type": "code",
   "execution_count": 134,
   "id": "0191e0db-af32-4218-85ff-a1c590b313fe",
   "metadata": {},
   "outputs": [
    {
     "name": "stdout",
     "output_type": "stream",
     "text": [
      "Tahmin dosyası oluşturuldu: submission_voting.csv\n"
     ]
    }
   ],
   "source": [
    "# Modeli eğit\n",
    "voting_clf.fit(X_train, y_train)\n",
    "\n",
    "# Test verisi için önişleme + tahmin\n",
    "X_test = df_test[categorical_cols + numerical_cols]\n",
    "predictions = voting_clf.predict(X_test)\n",
    "\n",
    "# Örnek: Submission dosyası hazırlamak için\n",
    "submission = pd.DataFrame({\n",
    "    'PassengerId': df_test['PassengerId'],\n",
    "    'Survived': predictions\n",
    "})\n",
    "\n",
    "submission.to_csv('submission_voting.csv', index=False)\n",
    "print(\"Tahmin dosyası oluşturuldu: submission_voting.csv\")\n"
   ]
  },
  {
   "cell_type": "code",
   "execution_count": 135,
   "id": "6e30d37c-c8b5-4a1d-a9f1-338ca5aace24",
   "metadata": {},
   "outputs": [
    {
     "name": "stdout",
     "output_type": "stream",
     "text": [
      "StackingClassifier CV Scores: [0.83240223 0.82022472 0.84269663 0.8258427  0.87640449]\n",
      "StackingClassifier Mean Accuracy: 0.8395\n"
     ]
    }
   ],
   "source": [
    "from sklearn.ensemble import StackingClassifier\n",
    "from sklearn.linear_model import LogisticRegression\n",
    "from sklearn.ensemble import RandomForestClassifier\n",
    "from lightgbm import LGBMClassifier\n",
    "from sklearn.model_selection import cross_val_score, StratifiedKFold\n",
    "\n",
    "# Base modeller\n",
    "base_learners = [\n",
    "    ('lr', LogisticRegression(max_iter=1000, random_state=42)),\n",
    "    ('rf', RandomForestClassifier(n_estimators=100, random_state=42)),\n",
    "    ('lgb', LGBMClassifier(n_estimators=100, learning_rate=0.05, random_state=42, verbose=-1))\n",
    "]\n",
    "\n",
    "# Meta model\n",
    "meta_learner = LogisticRegression(max_iter=1000, random_state=42)\n",
    "\n",
    "# StackingClassifier\n",
    "stacked_model = StackingClassifier(\n",
    "    estimators=base_learners,\n",
    "    final_estimator=meta_learner,\n",
    "    cv=5,\n",
    "    n_jobs=-1,\n",
    "    passthrough=True  # Base modellerin orijinal girdilerini de meta modele geçirir\n",
    ")\n",
    "\n",
    "# Preprocessing dahil pipeline\n",
    "stacking_pipeline = Pipeline(steps=[\n",
    "    ('preprocessor', preprocessor),\n",
    "    ('stacked_model', stacked_model)\n",
    "])\n",
    "\n",
    "# Cross-validation ile değerlendirme\n",
    "scores = cross_val_score(stacking_pipeline, X_train, y_train, cv=5, scoring='accuracy')\n",
    "\n",
    "print(f\"StackingClassifier CV Scores: {scores}\")\n",
    "print(f\"StackingClassifier Mean Accuracy: {scores.mean():.4f}\")\n"
   ]
  },
  {
   "cell_type": "code",
   "execution_count": 136,
   "id": "46e29a08-3e52-40d4-8a73-aa686f502b5c",
   "metadata": {},
   "outputs": [
    {
     "name": "stdout",
     "output_type": "stream",
     "text": [
      "Tahmin dosyası oluşturuldu: submission_stacking.csv\n"
     ]
    }
   ],
   "source": [
    "# Eğit ve tahmin et\n",
    "stacking_pipeline.fit(X_train, y_train)\n",
    "predictions_stack = stacking_pipeline.predict(X_test)\n",
    "\n",
    "# Dosya oluştur\n",
    "submission_stack = pd.DataFrame({\n",
    "    'PassengerId': df_test['PassengerId'],\n",
    "    'Survived': predictions_stack\n",
    "})\n",
    "\n",
    "submission_stack.to_csv(\"submission_stacking.csv\", index=False)\n",
    "print(\"Tahmin dosyası oluşturuldu: submission_stacking.csv\")"
   ]
  },
  {
   "cell_type": "code",
   "execution_count": 137,
   "id": "89ce6f44-32ba-41d8-9474-912b0f418228",
   "metadata": {},
   "outputs": [],
   "source": [
    "from lightgbm import LGBMClassifier\n",
    "from sklearn.model_selection import RandomizedSearchCV\n",
    "from scipy.stats import randint as sp_randint\n",
    "from scipy.stats import uniform"
   ]
  },
  {
   "cell_type": "code",
   "execution_count": 138,
   "id": "599e79a4-4e59-40a8-adfa-b45be0df59c7",
   "metadata": {},
   "outputs": [
    {
     "name": "stdout",
     "output_type": "stream",
     "text": [
      "Requirement already satisfied: scipy in /Users/kumo/Desktop/veri-analizi-projesi/venv/lib/python3.13/site-packages (1.16.1)\n",
      "Requirement already satisfied: numpy<2.6,>=1.25.2 in /Users/kumo/Desktop/veri-analizi-projesi/venv/lib/python3.13/site-packages (from scipy) (2.3.2)\n"
     ]
    }
   ],
   "source": [
    "!pip install scipy"
   ]
  },
  {
   "cell_type": "code",
   "execution_count": 139,
   "id": "a240949e-cbe6-498c-90e3-2e8e47189f9a",
   "metadata": {},
   "outputs": [],
   "source": [
    "param_dist = {\n",
    "    'n_estimators': sp_randint(50, 500),\n",
    "    'learning_rate': uniform(0.01, 0.2),\n",
    "    'num_leaves': sp_randint(20, 150),\n",
    "    'max_depth': sp_randint(3, 15),\n",
    "    'min_child_samples': sp_randint(5, 100),\n",
    "    'subsample': uniform(0.6, 0.4),\n",
    "    'colsample_bytree': uniform(0.6, 0.4)\n",
    "}"
   ]
  },
  {
   "cell_type": "code",
   "execution_count": 140,
   "id": "b6b50875-c915-4705-a214-f5527f525336",
   "metadata": {},
   "outputs": [
    {
     "name": "stdout",
     "output_type": "stream",
     "text": [
      "Fitting 5 folds for each of 50 candidates, totalling 250 fits\n",
      "En iyi skor: 0.8507501098487227\n",
      "En iyi parametreler: {'classifier__colsample_bytree': np.float64(0.7380284992106732), 'classifier__learning_rate': np.float64(0.13687026894027277), 'classifier__max_depth': 4, 'classifier__min_child_samples': 57, 'classifier__n_estimators': 221, 'classifier__num_leaves': 87, 'classifier__subsample': np.float64(0.632341330533086)}\n"
     ]
    }
   ],
   "source": [
    "# Model\n",
    "lgbm_clf = LGBMClassifier(\n",
    "    random_state=42,\n",
    "    verbose=-1,\n",
    "    verbosity=-1,\n",
    "    force_row_wise=True\n",
    ")\n",
    "\n",
    "\n",
    "# Pipeline + model tuning\n",
    "pipeline = Pipeline(steps=[\n",
    "    ('preprocessor', preprocessor),\n",
    "    ('classifier', lgbm_clf)\n",
    "])\n",
    "\n",
    "# Randomized Search\n",
    "random_search = RandomizedSearchCV(\n",
    "    estimator=pipeline,\n",
    "    param_distributions={\n",
    "        'classifier__' + k: v for k, v in param_dist.items()\n",
    "    },\n",
    "    n_iter=50,\n",
    "    scoring='accuracy',\n",
    "    cv=5,\n",
    "    random_state=42,\n",
    "    verbose=1,\n",
    "    n_jobs=-1\n",
    ")\n",
    "\n",
    "random_search.fit(X_train, y_train)\n",
    "\n",
    "print(\"En iyi skor:\", random_search.best_score_)\n",
    "print(\"En iyi parametreler:\", random_search.best_params_)"
   ]
  },
  {
   "cell_type": "code",
   "execution_count": 141,
   "id": "fefde5eb-d807-4ed4-a998-e3918d0e84c6",
   "metadata": {},
   "outputs": [
    {
     "name": "stdout",
     "output_type": "stream",
     "text": [
      "Tahmin dosyası hazır: submission_tuned_lgbm.csv\n"
     ]
    }
   ],
   "source": [
    "# Tahmin\n",
    "preds = random_search.predict(X_test)\n",
    "\n",
    "submission = pd.DataFrame({\n",
    "    'PassengerId': df_test['PassengerId'],\n",
    "    'Survived': preds\n",
    "})\n",
    "\n",
    "submission.to_csv(\"submission_tuned_lgbm.csv\", index=False)\n",
    "print(\"Tahmin dosyası hazır: submission_tuned_lgbm.csv\")"
   ]
  },
  {
   "cell_type": "code",
   "execution_count": 142,
   "id": "4b4b302a-ac07-4747-87de-33c64bdc2c75",
   "metadata": {},
   "outputs": [],
   "source": [
    "from sklearn.ensemble import RandomForestClassifier, VotingClassifier\n",
    "from sklearn.linear_model import LogisticRegression\n",
    "from xgboost import XGBClassifier\n",
    "from sklearn.model_selection import cross_val_score"
   ]
  },
  {
   "cell_type": "code",
   "execution_count": 145,
   "id": "550d452c-cb99-4310-a973-c40841312115",
   "metadata": {},
   "outputs": [],
   "source": [
    "# Modeller\n",
    "rf_clf = RandomForestClassifier(random_state=42)\n",
    "lr_clf = LogisticRegression(max_iter=1000, random_state=42)\n",
    "xgb_clf = XGBClassifier(eval_metric='logloss', random_state=42)\n",
    "\n",
    "# Pipeline içindeki preprocessor aynen kalacak\n",
    "\n",
    "# Farklı modeller için pipeline tanımla\n",
    "pipeline_rf = Pipeline([('preprocessor', preprocessor), ('classifier', rf_clf)])\n",
    "pipeline_lr = Pipeline([('preprocessor', preprocessor), ('classifier', lr_clf)])\n",
    "pipeline_xgb = Pipeline([('preprocessor', preprocessor), ('classifier', xgb_clf)])\n",
    "\n",
    "# LightGBM zaten random_search içinde pipeline ile hazır"
   ]
  },
  {
   "cell_type": "code",
   "execution_count": 146,
   "id": "a1b8148a-6f97-48c8-bd21-77d46aa97ea6",
   "metadata": {},
   "outputs": [
    {
     "name": "stdout",
     "output_type": "stream",
     "text": [
      "LightGBM (Tuned) CV Accuracy Scores: [0.83240223 0.83707865 0.87640449 0.83707865 0.87078652]\n",
      "LightGBM (Tuned) Average Accuracy: 0.8508\n",
      "\n",
      "RandomForest CV Accuracy Scores: [0.79888268 0.80898876 0.85393258 0.75280899 0.83707865]\n",
      "RandomForest Average Accuracy: 0.8103\n",
      "\n",
      "LogisticRegression CV Accuracy Scores: [0.78212291 0.76966292 0.79213483 0.79775281 0.79775281]\n",
      "LogisticRegression Average Accuracy: 0.7879\n",
      "\n",
      "XGBoost CV Accuracy Scores: [0.82122905 0.80898876 0.85955056 0.80337079 0.83707865]\n",
      "XGBoost Average Accuracy: 0.8260\n",
      "\n"
     ]
    }
   ],
   "source": [
    "models = {\n",
    "    'LightGBM (Tuned)': random_search.best_estimator_,\n",
    "    'RandomForest': pipeline_rf,\n",
    "    'LogisticRegression': pipeline_lr,\n",
    "    'XGBoost': pipeline_xgb\n",
    "}\n",
    "\n",
    "for name, model in models.items():\n",
    "    scores = cross_val_score(model, X_train, y_train, cv=5, scoring='accuracy', n_jobs=-1)\n",
    "    print(f\"{name} CV Accuracy Scores: {scores}\")\n",
    "    print(f\"{name} Average Accuracy: {scores.mean():.4f}\\n\")"
   ]
  },
  {
   "cell_type": "code",
   "execution_count": 147,
   "id": "5ec1ee9c-e944-4c82-bc0c-40e64bbec961",
   "metadata": {},
   "outputs": [
    {
     "name": "stdout",
     "output_type": "stream",
     "text": [
      "VotingClassifier CV Accuracy Scores: [0.84357542 0.8258427  0.87640449 0.8258427  0.85393258]\n",
      "VotingClassifier Average Accuracy: 0.8451\n"
     ]
    }
   ],
   "source": [
    "voting_clf = VotingClassifier(\n",
    "    estimators=[\n",
    "        ('lgbm', random_search.best_estimator_),\n",
    "        ('rf', pipeline_rf),\n",
    "        ('lr', pipeline_lr),\n",
    "        ('xgb', pipeline_xgb)\n",
    "    ],\n",
    "    voting='soft',\n",
    "    n_jobs=-1\n",
    ")\n",
    "\n",
    "voting_scores = cross_val_score(voting_clf, X_train, y_train, cv=5, scoring='accuracy', n_jobs=-1)\n",
    "print(f\"VotingClassifier CV Accuracy Scores: {voting_scores}\")\n",
    "print(f\"VotingClassifier Average Accuracy: {voting_scores.mean():.4f}\")"
   ]
  },
  {
   "cell_type": "code",
   "execution_count": 148,
   "id": "a3bd3504-c008-409a-a663-863ec370ccae",
   "metadata": {},
   "outputs": [],
   "source": [
    "# Gerekli kütüphaneler\n",
    "import pandas as pd\n",
    "import numpy as np\n",
    "import matplotlib.pyplot as plt\n",
    "import seaborn as sns\n",
    "\n",
    "# Gelişmiş modelleme ve pipeline\n",
    "from sklearn.model_selection import StratifiedKFold, cross_val_score\n",
    "from sklearn.pipeline import Pipeline\n",
    "from sklearn.preprocessing import LabelEncoder\n",
    "from sklearn.impute import SimpleImputer\n",
    "\n",
    "# Modelleme\n",
    "from sklearn.linear_model import LogisticRegression\n",
    "from sklearn.ensemble import RandomForestClassifier\n",
    "from xgboost import XGBClassifier\n",
    "import lightgbm as lgb\n",
    "\n",
    "\n",
    "import warnings\n",
    "warnings.filterwarnings('ignore')\n",
    "\n",
    "\n",
    "df_train = pd.read_csv(\"train.csv\")\n",
    "df_test = pd.read_csv(\"test.csv\")\n",
    "\n",
    "# Orijinal veri yedekleme\n",
    "train = df_train.copy()\n",
    "test = df_test.copy()\n",
    "\n",
    "# Train setine hedef sütunu ekleme\n",
    "target = 'Survived'\n"
   ]
  },
  {
   "cell_type": "code",
   "execution_count": 149,
   "id": "5ef83bab-a712-4bb1-b313-84252da84f86",
   "metadata": {},
   "outputs": [
    {
     "name": "stdout",
     "output_type": "stream",
     "text": [
      " Final tahmin dosyası hazır: submission_final_ensemble.csv\n"
     ]
    }
   ],
   "source": [
    "voting_clf.fit(X_train, y_train)\n",
    "final_preds = voting_clf.predict(X_test)\n",
    "\n",
    "submission_final = pd.DataFrame({\n",
    "    'PassengerId': df_test['PassengerId'],\n",
    "    'Survived': final_preds\n",
    "})\n",
    "\n",
    "submission_final.to_csv('submission_final_ensemble.csv', index=False)\n",
    "print(\" Final tahmin dosyası hazır: submission_final_ensemble.csv\")"
   ]
  },
  {
   "cell_type": "code",
   "execution_count": 150,
   "id": "359dd2b1-75ad-40df-9951-b30a715cd11d",
   "metadata": {},
   "outputs": [],
   "source": [
    "def feature_engineering(df):\n",
    "    # FamilySize sütunu\n",
    "    df['FamilySize'] = df['SibSp'] + df['Parch'] + 1\n",
    "\n",
    "    # Title çıkarımı \n",
    "    df['Title'] = df['Name'].str.extract(' ([A-Za-z]+)\\.', expand=False)\n",
    "    rare_titles = ['Lady', 'Countess', 'Capt', 'Col', 'Don', 'Dr', 'Major', \n",
    "                   'Rev', 'Sir', 'Jonkheer', 'Dona']\n",
    "    df['Title'] = df['Title'].replace(rare_titles, 'Rare')\n",
    "    df['Title'] = df['Title'].replace(['Mlle', 'Ms'], 'Miss')\n",
    "    df['Title'] = df['Title'].replace('Mme', 'Mrs')\n",
    "\n",
    "    # AgeBin ve FareBin - sayısal değişkenleri kategorik kutulara böl\n",
    "    df['AgeBin'] = pd.cut(df['Age'], bins=[0, 12, 20, 40, 60, 100], labels=False)\n",
    "    df['FareBin'] = pd.qcut(df['Fare'], 4, labels=False)\n",
    "\n",
    "    # Deck çıkarımı (kabin numarasından)\n",
    "    df['Deck'] = df['Cabin'].str[0]\n",
    "    df['Deck'] = df['Deck'].fillna('U')  # U: Unknown\n",
    "\n",
    "    # Pclass_Sex kombine feature\n",
    "    df['Pclass_Sex'] = df['Pclass'].astype(str) + \"_\" + df['Sex']\n",
    "\n",
    "    return df\n"
   ]
  },
  {
   "cell_type": "code",
   "execution_count": 151,
   "id": "2f7010c7-cfb3-4eb8-a7d2-cb668831edb1",
   "metadata": {},
   "outputs": [],
   "source": [
    "df_train = feature_engineering(df_train)\n",
    "df_test = feature_engineering(df_test)"
   ]
  },
  {
   "cell_type": "code",
   "execution_count": 152,
   "id": "aadcaa1e-4023-443a-83ad-bf2490cbed6d",
   "metadata": {},
   "outputs": [],
   "source": [
    "features = ['Pclass', 'Sex', 'Age', 'Fare', 'FamilySize', 'Title', 'AgeBin', 'FareBin', 'Deck', 'Pclass_Sex']"
   ]
  },
  {
   "cell_type": "code",
   "execution_count": 153,
   "id": "f4ba88ad-5185-4b98-930a-c22e0b507e3d",
   "metadata": {},
   "outputs": [],
   "source": [
    "X_train = df_train[features]\n",
    "X_test = df_test[features]\n",
    "\n",
    "y_train = df_train['Survived']"
   ]
  },
  {
   "cell_type": "code",
   "execution_count": 154,
   "id": "ffeecbc0-0f53-40b7-9e65-de3bed5e5645",
   "metadata": {},
   "outputs": [
    {
     "name": "stdout",
     "output_type": "stream",
     "text": [
      "Tahmin dosyası oluşturuldu: submission.csv\n"
     ]
    }
   ],
   "source": [
    "# En iyi modeli al\n",
    "best_model = random_search.best_estimator_  \n",
    "\n",
    "# Test verisi üzerinde tahmin\n",
    "test_preds = best_model.predict(df_test)\n",
    "\n",
    "# Sonuçları DataFrame'e koy ve CSV olarak kaydet\n",
    "submission = pd.DataFrame({\n",
    "    'PassengerId': df_test['PassengerId'],\n",
    "    'Survived': test_preds\n",
    "})\n",
    "\n",
    "submission.to_csv('submission.csv', index=False)\n",
    "\n",
    "print(\"Tahmin dosyası oluşturuldu: submission.csv\")"
   ]
  },
  {
   "cell_type": "code",
   "execution_count": 155,
   "id": "166b4e4c-60cb-42c9-838d-a9e84110d9f3",
   "metadata": {},
   "outputs": [],
   "source": [
    "from sklearn.pipeline import Pipeline\n",
    "from sklearn.compose import ColumnTransformer\n",
    "from sklearn.preprocessing import OneHotEncoder, StandardScaler, OrdinalEncoder\n",
    "from sklearn.impute import SimpleImputer\n",
    "from sklearn.ensemble import RandomForestClassifier\n",
    "from sklearn.model_selection import train_test_split, cross_val_score\n",
    "\n",
    "# Simülasyon için örnek veri\n",
    "data = {\n",
    "    'Age': [22, 38, np.nan, 35],\n",
    "    'Fare': [7.25, 71.28, 8.05, np.nan],\n",
    "    'FamilySize': [1, 1, 0, 0],\n",
    "    'Sex': ['male', 'female', 'female', 'female'],\n",
    "    'Embarked': ['S', 'C', 'Q', np.nan],\n",
    "    'Title': ['Mr', 'Mrs', 'Miss', 'Mrs'],\n",
    "    'Deck': ['C', np.nan, 'G', 'C'],\n",
    "    'FareBin': ['low', 'high', 'low', 'mid'],\n",
    "    'AgeBin': ['young', 'adult', 'young', 'adult'],\n",
    "    'Pclass_Sex': ['3_male', '1_female', '3_female', '1_female'],\n",
    "    'Survived': [0, 1, 1, 1]\n",
    "}\n",
    "\n",
    "df = pd.DataFrame(data)\n",
    "X = df.drop('Survived', axis=1)\n",
    "y = df['Survived']\n",
    "\n",
    "\n",
    "# Elimizdeki veriye göre sütunları tanımlıyoruz\n",
    "numeric_features = ['Age', 'Fare', 'FamilySize']\n",
    "categorical_features = ['Sex', 'Embarked', 'Title', 'Deck', 'FareBin', 'AgeBin', 'Pclass_Sex']\n"
   ]
  },
  {
   "cell_type": "code",
   "execution_count": 156,
   "id": "81a6e706-3847-444a-a308-8e9d7114e375",
   "metadata": {},
   "outputs": [],
   "source": [
    "# Sayısal veriler: Eksik değerleri medyanla doldur, sonra ölçekle\n",
    "numeric_transformer = Pipeline(steps=[\n",
    "    ('imputer', SimpleImputer(strategy='median')),\n",
    "    ('scaler', StandardScaler())\n",
    "])\n",
    "\n",
    "# Kategorik veriler: Eksik verileri 'missing' etiketiyle doldur, sonra OneHotEncode et\n",
    "categorical_transformer = Pipeline(steps=[\n",
    "    ('imputer', SimpleImputer(strategy='constant', fill_value='missing')),\n",
    "    ('encoder', OneHotEncoder(handle_unknown='ignore'))\n",
    "])\n",
    "\n",
    "# Tüm sütunları birleştir\n",
    "preprocessor = ColumnTransformer(transformers=[\n",
    "    ('num', numeric_transformer, numeric_features),\n",
    "    ('cat', categorical_transformer, categorical_features)\n",
    "])\n"
   ]
  },
  {
   "cell_type": "code",
   "execution_count": 158,
   "id": "d289d955-766e-4c9c-a94b-bcdcc74d999b",
   "metadata": {},
   "outputs": [],
   "source": [
    "# Örnek model olarak RandomForest kullanalım \n",
    "model_pipeline = Pipeline(steps=[\n",
    "    ('preprocessor', preprocessor),\n",
    "    ('classifier', RandomForestClassifier(random_state=42))\n",
    "])\n"
   ]
  },
  {
   "cell_type": "code",
   "execution_count": 159,
   "id": "66629667-0b0f-4973-8257-2b11fb4ddb6c",
   "metadata": {},
   "outputs": [
    {
     "name": "stdout",
     "output_type": "stream",
     "text": [
      "Ortalama Doğruluk Skoru: 0.5\n"
     ]
    }
   ],
   "source": [
    "# Cross-validation ile doğruluk değerlendirme\n",
    "scores = cross_val_score(model_pipeline, X, y, cv=2)\n",
    "print(\"Ortalama Doğruluk Skoru:\", scores.mean())"
   ]
  },
  {
   "cell_type": "code",
   "execution_count": 160,
   "id": "952ca98a-94de-4b85-a15f-fd8cbd97a157",
   "metadata": {},
   "outputs": [],
   "source": [
    "for col in X_train.columns:\n",
    "    if col not in df_test.columns:\n",
    "        df_test[col] = 0  "
   ]
  },
  {
   "cell_type": "code",
   "execution_count": 161,
   "id": "4c5396a9-be4b-4967-8f43-4b7ed596a8a0",
   "metadata": {},
   "outputs": [
    {
     "name": "stdout",
     "output_type": "stream",
     "text": [
      "Index(['Pclass', 'Sex', 'Age', 'Fare', 'FamilySize', 'Title', 'AgeBin',\n",
      "       'FareBin', 'Deck', 'Pclass_Sex'],\n",
      "      dtype='object')\n"
     ]
    }
   ],
   "source": [
    "print(X_train.columns)"
   ]
  },
  {
   "cell_type": "code",
   "execution_count": 162,
   "id": "6f66357a-0851-45c8-a0c1-9d0464863960",
   "metadata": {},
   "outputs": [],
   "source": [
    "from sklearn.compose import ColumnTransformer\n",
    "from sklearn.preprocessing import OneHotEncoder\n",
    "\n",
    "# Diyelim pipeline şu şekilde:\n",
    "preprocessor = ColumnTransformer(\n",
    "    transformers=[\n",
    "        ('cat', OneHotEncoder(), ['Embarked', 'Sex']),\n",
    "        ('num', StandardScaler(), ['Age', 'Fare'])\n",
    "    ])\n",
    "\n",
    "# Eğer 'Embarked' yoksa, ya df_test veya X_train'e ekle,\n",
    "# ya da transformer'dan çıkar."
   ]
  },
  {
   "cell_type": "code",
   "execution_count": 163,
   "id": "bfaa0ab1-baee-498e-a392-8066cfb0c75e",
   "metadata": {},
   "outputs": [],
   "source": [
    "for col in X_train.columns:\n",
    "    if col not in df_test.columns:\n",
    "        df_test[col] = 0  \n",
    "\n",
    "for col in df_test.columns:\n",
    "    if col not in X_train.columns:\n",
    "        X_train[col] = 0  \n"
   ]
  },
  {
   "cell_type": "code",
   "execution_count": 169,
   "id": "ce4984a6-06ae-4a50-aa26-3cdb3120e76a",
   "metadata": {},
   "outputs": [
    {
     "name": "stdout",
     "output_type": "stream",
     "text": [
      "Tahmin dosyası kaydedildi.\n"
     ]
    }
   ],
   "source": [
    "# Eğitim\n",
    "model_pipeline.fit(X_train, y_train)\n",
    "\n",
    "# Test setinde tahmin\n",
    "test_preds = model_pipeline.predict(df_test)\n",
    "\n",
    "# Sonuçları kaydet\n",
    "submission = pd.DataFrame({\n",
    "    'PassengerId': df_test['PassengerId'],\n",
    "    'Survived': test_preds\n",
    "})\n",
    "\n",
    "submission.to_csv('final_submission.csv', index=False)\n",
    "print(\"Tahmin dosyası kaydedildi.\")\n"
   ]
  },
  {
   "cell_type": "code",
   "execution_count": 170,
   "id": "4b5b5ce7-79f6-489a-8777-0b4aaa4ba63e",
   "metadata": {},
   "outputs": [],
   "source": [
    "categorical_cols = ['Sex', 'Embarked', 'Pclass']  \n",
    "numerical_cols = ['Age', 'Fare']"
   ]
  },
  {
   "cell_type": "code",
   "execution_count": 167,
   "id": "9e0d6b30-2a11-4273-969d-ee5517e60c49",
   "metadata": {},
   "outputs": [],
   "source": [
    "\n",
    "# Kategorik işlem adımları\n",
    "categorical_transformer = Pipeline(steps=[\n",
    "    ('imputer', SimpleImputer(strategy='most_frequent')),\n",
    "    ('encoder', OneHotEncoder(handle_unknown='ignore'))\n",
    "])\n",
    "\n",
    "# Sayısal işlem adımları\n",
    "numerical_transformer = Pipeline(steps=[\n",
    "    ('imputer', SimpleImputer(strategy='mean'))\n",
    "])\n",
    "\n",
    "# Preprocessing adımı\n",
    "preprocessor = ColumnTransformer(transformers=[\n",
    "    ('cat', categorical_transformer, categorical_cols),\n",
    "    ('num', numerical_transformer, numerical_cols)\n",
    "])\n",
    "\n",
    "# Model pipeline\n",
    "model_pipeline = Pipeline(steps=[\n",
    "    ('preprocessor', preprocessor),\n",
    "    ('classifier', RandomForestClassifier(random_state=42))\n",
    "])\n"
   ]
  },
  {
   "cell_type": "code",
   "execution_count": 168,
   "id": "1b72e7af-6551-4a0d-a7f5-f22a1252dc49",
   "metadata": {},
   "outputs": [
    {
     "name": "stdout",
     "output_type": "stream",
     "text": [
      "Tahmin dosyası kaydedildi.\n"
     ]
    }
   ],
   "source": [
    "# Train/test'te sadece bu sütunları kullan\n",
    "X_train_filtered = X_train[categorical_cols + numerical_cols]\n",
    "df_test_filtered = df_test[categorical_cols + numerical_cols]\n",
    "\n",
    "# Fit\n",
    "model_pipeline.fit(X_train_filtered, y_train)\n",
    "\n",
    "# Predict\n",
    "test_preds = model_pipeline.predict(df_test_filtered)\n",
    "\n",
    "# CSV oluştur\n",
    "submission = pd.DataFrame({\n",
    "    'PassengerId': df_test['PassengerId'],\n",
    "    'Survived': test_preds\n",
    "})\n",
    "submission.to_csv('final_submission.csv', index=False)\n",
    "print(\"Tahmin dosyası kaydedildi.\")\n"
   ]
  },
  {
   "cell_type": "code",
   "execution_count": null,
   "id": "e7662739-b932-4173-b3ff-0b615ad43623",
   "metadata": {},
   "outputs": [],
   "source": []
  },
  {
   "cell_type": "code",
   "execution_count": null,
   "id": "1b7d48f6-8a65-4062-bc26-88a36ea13f74",
   "metadata": {},
   "outputs": [],
   "source": []
  }
 ],
 "metadata": {
  "kernelspec": {
   "display_name": "Python 3 (ipykernel)",
   "language": "python",
   "name": "python3"
  },
  "language_info": {
   "codemirror_mode": {
    "name": "ipython",
    "version": 3
   },
   "file_extension": ".py",
   "mimetype": "text/x-python",
   "name": "python",
   "nbconvert_exporter": "python",
   "pygments_lexer": "ipython3",
   "version": "3.13.7"
  }
 },
 "nbformat": 4,
 "nbformat_minor": 5
}
